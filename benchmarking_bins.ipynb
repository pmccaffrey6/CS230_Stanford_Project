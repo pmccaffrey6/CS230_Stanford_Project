{
 "cells": [
  {
   "cell_type": "code",
   "execution_count": 14,
   "metadata": {},
   "outputs": [],
   "source": [
    "import vamb\n",
    "\n",
    "import pandas as pd\n",
    "\n",
    "import os"
   ]
  },
  {
   "cell_type": "code",
   "execution_count": 7,
   "metadata": {},
   "outputs": [],
   "source": [
    "BASE_DIR = os.getcwd()"
   ]
  },
  {
   "cell_type": "code",
   "execution_count": 24,
   "metadata": {},
   "outputs": [
    {
     "name": "stdout",
     "output_type": "stream",
     "text": [
      "S23C236194\tOTU_97.38699.0\tCP013953.1\t405835\t408637\n",
      "S23C27593\tOTU_97.44406.0\tCP015430.1\t1591817\t1594726\n",
      "S23C53437\tOTU_97.35057.0\tCP012974.1\t260542\t266700\n",
      "S23C191539\tOTU_97.16597.0\tCP010116.1\t1675948\t1678686\n",
      "S23C111210\tOTU_97.20680.0\tCP013619.1\t408162\t411064\n",
      "S23C216129\tOTU_97.409.0\tCP013957.1\t103779\t106015\n",
      "S23C2782\tOTU_97.45246.0\tCP007573.1\t1941619\t1956892\n",
      "S23C9729\tOTU_97.44851.0\tCP015426.1\t1099587\t1121671\n",
      "S23C36165\tOTU_97.409.0\tCP013957.1\t427732\t429801\n",
      "S23C90379\tOTU_97.2104.0\tCP019196.1\t300725\t303071\n"
     ]
    }
   ],
   "source": [
    "# First load in the Reference\n",
    "reference_path = os.path.join(BASE_DIR, 'benchmarking_data/airways/reference.tsv')\n",
    "\n",
    "!head $reference_path # show first 10 lines of reference file\n",
    "\n",
    "with open(reference_path) as reference_file:\n",
    "    reference = vamb.benchmark.Reference.from_file(reference_file)"
   ]
  },
  {
   "cell_type": "code",
   "execution_count": 12,
   "metadata": {},
   "outputs": [
    {
     "name": "stdout",
     "output_type": "stream",
     "text": [
      "OTU_97.39766.0\tCorynebacterium pseudotuberculosis\tCorynebacterium\n",
      "OTU_97.7195.0\tAcinetobacter baumannii\tAcinetobacter\n",
      "OTU_97.34725.0\tStaphylococcus aureus\tStaphylococcus\n",
      "OTU_97.1051.0\tCorynebacterium ulcerans\tCorynebacterium\n",
      "OTU_97.34663.0\tStaphylococcus aureus\tStaphylococcus\n",
      "OTU_97.8581.0\tCorynebacterium doosanense\tCorynebacterium\n",
      "OTU_97.8702.0\tFlavobacterium psychrophilum\tFlavobacterium\n",
      "OTU_97.31374.1\tCorynebacterium ulcerans\tCorynebacterium\n",
      "OTU_97.479.0\tFlavobacterium gilvum\tFlavobacterium\n",
      "OTU_97.37290.0\tStaphylococcus equorum\tStaphylococcus\n"
     ]
    }
   ],
   "source": [
    "taxonomy_path = os.path.join(BASE_DIR, 'benchmarking_data/airways/taxonomy.tsv')\n",
    "\n",
    "!head $taxonomy_path # show first 10 lines of reference file\n",
    "\n",
    "with open(taxonomy_path) as taxonomy_file:\n",
    "    reference.load_tax_file(taxonomy_file)"
   ]
  },
  {
   "cell_type": "code",
   "execution_count": 22,
   "metadata": {},
   "outputs": [
    {
     "ename": "KeyError",
     "evalue": "'Contigname S0C29976 not in reference'",
     "output_type": "error",
     "traceback": [
      "\u001b[0;31m---------------------------------------------------------------------------\u001b[0m",
      "\u001b[0;31mKeyError\u001b[0m                                  Traceback (most recent call last)",
      "\u001b[0;32m<ipython-input-22-6ab2165d0260>\u001b[0m in \u001b[0;36m<module>\u001b[0;34m\u001b[0m\n\u001b[1;32m      1\u001b[0m \u001b[0;32mwith\u001b[0m \u001b[0mopen\u001b[0m\u001b[0;34m(\u001b[0m \u001b[0mos\u001b[0m\u001b[0;34m.\u001b[0m\u001b[0mpath\u001b[0m\u001b[0;34m.\u001b[0m\u001b[0mjoin\u001b[0m\u001b[0;34m(\u001b[0m\u001b[0mBASE_DIR\u001b[0m\u001b[0;34m,\u001b[0m \u001b[0;34m'example_input_data/new_simulations/camisim_outputs/vamb_outputs/clusters.tsv'\u001b[0m\u001b[0;34m)\u001b[0m \u001b[0;34m)\u001b[0m \u001b[0;32mas\u001b[0m \u001b[0mclusters_file\u001b[0m\u001b[0;34m:\u001b[0m\u001b[0;34m\u001b[0m\u001b[0;34m\u001b[0m\u001b[0m\n\u001b[1;32m      2\u001b[0m     \u001b[0mvamb_clusters\u001b[0m \u001b[0;34m=\u001b[0m \u001b[0mvamb\u001b[0m\u001b[0;34m.\u001b[0m\u001b[0mvambtools\u001b[0m\u001b[0;34m.\u001b[0m\u001b[0mread_clusters\u001b[0m\u001b[0;34m(\u001b[0m\u001b[0mclusters_file\u001b[0m\u001b[0;34m)\u001b[0m\u001b[0;34m\u001b[0m\u001b[0;34m\u001b[0m\u001b[0m\n\u001b[0;32m----> 3\u001b[0;31m     \u001b[0mvamb_bins\u001b[0m \u001b[0;34m=\u001b[0m \u001b[0mvamb\u001b[0m\u001b[0;34m.\u001b[0m\u001b[0mbenchmark\u001b[0m\u001b[0;34m.\u001b[0m\u001b[0mBinning\u001b[0m\u001b[0;34m(\u001b[0m\u001b[0mvamb_clusters\u001b[0m\u001b[0;34m,\u001b[0m \u001b[0mreference\u001b[0m\u001b[0;34m,\u001b[0m \u001b[0mminsize\u001b[0m\u001b[0;34m=\u001b[0m\u001b[0;36m200000\u001b[0m\u001b[0;34m)\u001b[0m\u001b[0;34m\u001b[0m\u001b[0;34m\u001b[0m\u001b[0m\n\u001b[0m",
      "\u001b[0;32m~/miniconda3/envs/vamb_env/lib/python3.8/site-packages/vamb/benchmark.py\u001b[0m in \u001b[0;36m__init__\u001b[0;34m(self, contigsof, reference, recalls, precisions, checkpresence, disjoint, binsplit_separator, minsize, mincontigs)\u001b[0m\n\u001b[1;32m    484\u001b[0m         \u001b[0mself\u001b[0m\u001b[0;34m.\u001b[0m\u001b[0mbinof\u001b[0m \u001b[0;34m=\u001b[0m \u001b[0mdict\u001b[0m\u001b[0;34m(\u001b[0m\u001b[0;34m)\u001b[0m \u001b[0;31m# contig: bin_name or {bin_names} dict\u001b[0m\u001b[0;34m\u001b[0m\u001b[0;34m\u001b[0m\u001b[0m\n\u001b[1;32m    485\u001b[0m         \u001b[0mself\u001b[0m\u001b[0;34m.\u001b[0m\u001b[0mbreadthof\u001b[0m \u001b[0;34m=\u001b[0m \u001b[0mdict\u001b[0m\u001b[0;34m(\u001b[0m\u001b[0;34m)\u001b[0m \u001b[0;31m# bin_name: int dict\u001b[0m\u001b[0;34m\u001b[0m\u001b[0;34m\u001b[0m\u001b[0m\n\u001b[0;32m--> 486\u001b[0;31m         \u001b[0mself\u001b[0m\u001b[0;34m.\u001b[0m\u001b[0m_parse_bins\u001b[0m\u001b[0;34m(\u001b[0m\u001b[0mcontigsof\u001b[0m\u001b[0;34m,\u001b[0m \u001b[0mcheckpresence\u001b[0m\u001b[0;34m,\u001b[0m \u001b[0mdisjoint\u001b[0m\u001b[0;34m,\u001b[0m \u001b[0mbinsplit_separator\u001b[0m\u001b[0;34m,\u001b[0m \u001b[0mminsize\u001b[0m\u001b[0;34m,\u001b[0m \u001b[0mmincontigs\u001b[0m\u001b[0;34m)\u001b[0m\u001b[0;34m\u001b[0m\u001b[0;34m\u001b[0m\u001b[0m\n\u001b[0m\u001b[1;32m    487\u001b[0m         \u001b[0mself\u001b[0m\u001b[0;34m.\u001b[0m\u001b[0mbreadth\u001b[0m \u001b[0;34m=\u001b[0m \u001b[0msum\u001b[0m\u001b[0;34m(\u001b[0m\u001b[0mself\u001b[0m\u001b[0;34m.\u001b[0m\u001b[0mbreadthof\u001b[0m\u001b[0;34m.\u001b[0m\u001b[0mvalues\u001b[0m\u001b[0;34m(\u001b[0m\u001b[0;34m)\u001b[0m\u001b[0;34m)\u001b[0m\u001b[0;34m\u001b[0m\u001b[0;34m\u001b[0m\u001b[0m\n\u001b[1;32m    488\u001b[0m \u001b[0;34m\u001b[0m\u001b[0m\n",
      "\u001b[0;32m~/miniconda3/envs/vamb_env/lib/python3.8/site-packages/vamb/benchmark.py\u001b[0m in \u001b[0;36m_parse_bins\u001b[0;34m(self, contigsof, checkpresence, disjoint, binsplit_separator, minsize, mincontigs)\u001b[0m\n\u001b[1;32m    508\u001b[0m             \u001b[0mminsize\u001b[0m \u001b[0;34m=\u001b[0m \u001b[0;36m1\u001b[0m \u001b[0;32mif\u001b[0m \u001b[0mminsize\u001b[0m \u001b[0;32mis\u001b[0m \u001b[0;32mNone\u001b[0m \u001b[0;32melse\u001b[0m \u001b[0mminsize\u001b[0m\u001b[0;34m\u001b[0m\u001b[0;34m\u001b[0m\u001b[0m\n\u001b[1;32m    509\u001b[0m             \u001b[0mmincontigs\u001b[0m \u001b[0;34m=\u001b[0m \u001b[0;36m1\u001b[0m \u001b[0;32mif\u001b[0m \u001b[0mmincontigs\u001b[0m \u001b[0;32mis\u001b[0m \u001b[0;32mNone\u001b[0m \u001b[0;32melse\u001b[0m \u001b[0mmincontigs\u001b[0m\u001b[0;34m\u001b[0m\u001b[0;34m\u001b[0m\u001b[0m\n\u001b[0;32m--> 510\u001b[0;31m             \u001b[0mcontigsof\u001b[0m \u001b[0;34m=\u001b[0m \u001b[0mfilter_clusters\u001b[0m\u001b[0;34m(\u001b[0m\u001b[0mcontigsof\u001b[0m\u001b[0;34m,\u001b[0m \u001b[0mself\u001b[0m\u001b[0;34m.\u001b[0m\u001b[0mreference\u001b[0m\u001b[0;34m,\u001b[0m \u001b[0mminsize\u001b[0m\u001b[0;34m,\u001b[0m \u001b[0mmincontigs\u001b[0m\u001b[0;34m,\u001b[0m \u001b[0mcheckpresence\u001b[0m\u001b[0;34m=\u001b[0m\u001b[0mcheckpresence\u001b[0m\u001b[0;34m)\u001b[0m\u001b[0;34m\u001b[0m\u001b[0;34m\u001b[0m\u001b[0m\n\u001b[0m\u001b[1;32m    511\u001b[0m \u001b[0;34m\u001b[0m\u001b[0m\n\u001b[1;32m    512\u001b[0m         \u001b[0;32mfor\u001b[0m \u001b[0mbin_name\u001b[0m\u001b[0;34m,\u001b[0m \u001b[0mcontig_names\u001b[0m \u001b[0;32min\u001b[0m \u001b[0mcontigsof\u001b[0m\u001b[0;34m.\u001b[0m\u001b[0mitems\u001b[0m\u001b[0;34m(\u001b[0m\u001b[0;34m)\u001b[0m\u001b[0;34m:\u001b[0m\u001b[0;34m\u001b[0m\u001b[0;34m\u001b[0m\u001b[0m\n",
      "\u001b[0;32m~/miniconda3/envs/vamb_env/lib/python3.8/site-packages/vamb/benchmark.py\u001b[0m in \u001b[0;36mfilter_clusters\u001b[0;34m(clusters, reference, minsize, mincontigs, checkpresence)\u001b[0m\n\u001b[1;32m    611\u001b[0m                 \u001b[0msize\u001b[0m \u001b[0;34m+=\u001b[0m \u001b[0mlen\u001b[0m\u001b[0;34m(\u001b[0m\u001b[0mcontig\u001b[0m\u001b[0;34m)\u001b[0m\u001b[0;34m\u001b[0m\u001b[0;34m\u001b[0m\u001b[0m\n\u001b[1;32m    612\u001b[0m             \u001b[0;32melif\u001b[0m \u001b[0mcheckpresence\u001b[0m\u001b[0;34m:\u001b[0m\u001b[0;34m\u001b[0m\u001b[0;34m\u001b[0m\u001b[0m\n\u001b[0;32m--> 613\u001b[0;31m                 \u001b[0;32mraise\u001b[0m \u001b[0mKeyError\u001b[0m\u001b[0;34m(\u001b[0m\u001b[0;34m'Contigname {} not in reference'\u001b[0m\u001b[0;34m.\u001b[0m\u001b[0mformat\u001b[0m\u001b[0;34m(\u001b[0m\u001b[0mcontigname\u001b[0m\u001b[0;34m)\u001b[0m\u001b[0;34m)\u001b[0m\u001b[0;34m\u001b[0m\u001b[0;34m\u001b[0m\u001b[0m\n\u001b[0m\u001b[1;32m    614\u001b[0m             \u001b[0;32melse\u001b[0m\u001b[0;34m:\u001b[0m\u001b[0;34m\u001b[0m\u001b[0;34m\u001b[0m\u001b[0m\n\u001b[1;32m    615\u001b[0m                 \u001b[0;32mpass\u001b[0m\u001b[0;34m\u001b[0m\u001b[0;34m\u001b[0m\u001b[0m\n",
      "\u001b[0;31mKeyError\u001b[0m: 'Contigname S0C29976 not in reference'"
     ]
    }
   ],
   "source": [
    "with open( os.path.join(BASE_DIR, 'example_input_data/new_simulations/camisim_outputs/vamb_outputs/clusters.tsv') ) as clusters_file:\n",
    "    vamb_clusters = vamb.vambtools.read_clusters(clusters_file)\n",
    "    vamb_bins = vamb.benchmark.Binning(vamb_clusters, reference, minsize=200000)"
   ]
  },
  {
   "cell_type": "code",
   "execution_count": null,
   "metadata": {},
   "outputs": [],
   "source": []
  }
 ],
 "metadata": {
  "kernelspec": {
   "display_name": "vamb_env",
   "language": "python",
   "name": "vamb_env"
  },
  "language_info": {
   "codemirror_mode": {
    "name": "ipython",
    "version": 3
   },
   "file_extension": ".py",
   "mimetype": "text/x-python",
   "name": "python",
   "nbconvert_exporter": "python",
   "pygments_lexer": "ipython3",
   "version": "3.8.5"
  }
 },
 "nbformat": 4,
 "nbformat_minor": 4
}
