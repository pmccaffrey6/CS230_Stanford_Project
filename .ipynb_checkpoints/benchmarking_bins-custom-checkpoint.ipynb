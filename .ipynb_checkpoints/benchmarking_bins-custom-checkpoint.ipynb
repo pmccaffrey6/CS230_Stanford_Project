{
 "cells": [
  {
   "cell_type": "code",
   "execution_count": 38,
   "metadata": {},
   "outputs": [],
   "source": [
    "import vamb\n",
    "\n",
    "import pandas as pd\n",
    "\n",
    "import os\n",
    "\n",
    "import numpy as np\n",
    "from sklearn.manifold import TSNE\n",
    "\n",
    "import seaborn as sns\n",
    "\n",
    "import matplotlib.pyplot as plt\n",
    "%matplotlib inline"
   ]
  },
  {
   "cell_type": "code",
   "execution_count": 18,
   "metadata": {},
   "outputs": [],
   "source": [
    "BASE_DIR = os.getcwd()\n",
    "\n",
    "CHECKM_OUTDIR = os.path.join(BASE_DIR, 'example_input_data/new_simulations/camisim_outputs/vamb_outputs/checkm_results')\n",
    "\n",
    "if not os.path.exists(CHECKM_OUTDIR):\n",
    "    os.mkdir(CHECKM_OUTDIR)"
   ]
  },
  {
   "cell_type": "markdown",
   "metadata": {},
   "source": [
    "# How We Will do Benchmarking and Scoring"
   ]
  },
  {
   "cell_type": "markdown",
   "metadata": {},
   "source": [
    "# CheckM\n",
    "\n",
    "One fairly efficient way that we can do benchmarking is to use CheckM which is a package built to support assessment of metagenome binning. CheckM can provide us with some key metrics for assessig binning quality in the form of Completeness, Contamination, and Strain Heterogeneity.\n",
    "\n",
    "\n",
    "### Completeness\n",
    "To quote the authors' original [paper](https://genome.cshlp.org/content/25/7/1043):\n",
    "\n",
    "*\"Genome completeness is estimated as the number of marker sets present in a genome taking into account that only a portion of a marker set may be identified*\n",
    "\n",
    "$$\\Large \\frac{\\sum_{s \\in M} \\frac{|s \\cap G_M|}{|s|}}{|M|}$$\n",
    "\n",
    "*where s is a set of collocated marker genes; M is the set of all collocated marker sets s; and GM is the set of marker genes identified in a genome*\"\n",
    "\n",
    "\n",
    "### Contamination\n",
    "*\"Genome contamination is estimated from the number of multicopy marker genes identified in each marker set*\n",
    "\n",
    "$$\\Large \\frac{\\sum_{s \\in M} \\frac{|\\sum_{g \\in s} C_g|}{|s|}}{|M|}$$\n",
    "\n",
    "*where Cg is N − 1 for a gene g identified N ≥ 1 times, and 0 for a missing gene*\"\n",
    "\n",
    "\n",
    "### Strain Heterogeneity\n",
    "\n",
    "Finally, it is possible that multiple strains or even closely related species result in contigs being binned together. Strain heterogeneity captures this as the fraction of multicopy gene pairs above a specified amino acid identity (AAI) threshold\n",
    "\n",
    "$$\\Large \\frac{\\sum_{g \\in G} \\sum_{i=1}^{|g|} \\sum_{j=i+1}^{|g|} aai(g_i, g_j, t) } {\\sum_{g \\in G} \\sum_{i=1}^{|g|} \\sum_{j=i+1}^{|g|} 1}$$\n",
    "\n",
    "*where g = {g1,g2,…,gN} is the set of hits to a marker gene; G is the set of all marker genes; and aai is 1 if the AAI between gi and gj is greater than t (default = 0.9) and 0 otherwise.*\n",
    "\n",
    "These marker gene sets represent lineage-specific groups of genes that CheckM can use to efficiently perform these calculations and determine whether a grouped of binned contigs belongs to the same genome or different genomes and whether they cover the breadth of any given genome."
   ]
  },
  {
   "cell_type": "code",
   "execution_count": 22,
   "metadata": {},
   "outputs": [
    {
     "name": "stdout",
     "output_type": "stream",
     "text": [
      "[2021-02-26 12:34:01] INFO: CheckM v1.1.3\n",
      "[2021-02-26 12:34:01] INFO: checkm lineage_wf -t 32 -x fna /home/pathinformatics/jupyter_projects/vamb/stanford_cs230_project/example_input_data/new_simulations/camisim_outputs/vamb_outputs/bins /home/pathinformatics/jupyter_projects/vamb/stanford_cs230_project/example_input_data/new_simulations/camisim_outputs/vamb_outputs/checkm_results\n",
      "[2021-02-26 12:34:01] INFO: [CheckM - tree] Placing bins in reference genome tree.\n",
      "[2021-02-26 12:34:01] INFO: Identifying marker genes in 4 bins with 32 threads:\n",
      "    Finished processing 4 of 4 (100.00%) bins.\n",
      "[2021-02-26 12:34:03] INFO: Saving HMM info to file.\n",
      "[2021-02-26 12:34:03] INFO: Calculating genome statistics for 4 bins with 32 threads:\n",
      "    Finished processing 4 of 4 (100.00%) bins.\n",
      "[2021-02-26 12:34:03] INFO: Extracting marker genes to align.\n",
      "[2021-02-26 12:34:03] INFO: Parsing HMM hits to marker genes:\n",
      "    Finished parsing hits for 4 of 4 (100.00%) bins.\n",
      "[2021-02-26 12:34:03] INFO: Extracting 43 HMMs with 32 threads:\n",
      "    Finished extracting 43 of 43 (100.00%) HMMs.\n",
      "[2021-02-26 12:34:03] INFO: Aligning 43 marker genes with 32 threads:\n",
      "    Finished aligning 43 of 43 (100.00%) marker genes.\n",
      "[2021-02-26 12:34:03] INFO: Reading marker alignment files.\n",
      "[2021-02-26 12:34:03] INFO: Concatenating alignments.\n",
      "[2021-02-26 12:34:03] INFO: Placing 4 bins into the genome tree with pplacer (be patient).\n",
      "[2021-02-26 12:37:02] INFO: { Current stage: 0:03:00.835 || Total: 0:03:00.835 }\n",
      "[2021-02-26 12:37:02] INFO: [CheckM - lineage_set] Inferring lineage-specific marker sets.\n",
      "[2021-02-26 12:37:02] INFO: Reading HMM info from file.\n",
      "[2021-02-26 12:37:02] INFO: Parsing HMM hits to marker genes:\n",
      "    Finished parsing hits for 4 of 4 (100.00%) bins.\n",
      "[2021-02-26 12:37:02] INFO: Determining marker sets for each genome bin.\n",
      "    Finished processing 4 of 4 (100.00%) bins (current: S0CS0C10113).\n",
      "[2021-02-26 12:37:03] INFO: Marker set written to: /home/pathinformatics/jupyter_projects/vamb/stanford_cs230_project/example_input_data/new_simulations/camisim_outputs/vamb_outputs/checkm_results/lineage.ms\n",
      "[2021-02-26 12:37:03] INFO: { Current stage: 0:00:00.901 || Total: 0:03:01.737 }\n",
      "[2021-02-26 12:37:03] INFO: [CheckM - analyze] Identifying marker genes in bins.\n",
      "[2021-02-26 12:37:03] INFO: Identifying marker genes in 4 bins with 32 threads:\n",
      "    Finished processing 4 of 4 (100.00%) bins.\n",
      "[2021-02-26 12:39:20] INFO: Saving HMM info to file.\n",
      "[2021-02-26 12:39:20] INFO: { Current stage: 0:02:17.315 || Total: 0:05:19.052 }\n",
      "[2021-02-26 12:39:20] INFO: Parsing HMM hits to marker genes:\n",
      "    Finished parsing hits for 4 of 4 (100.00%) bins.\n",
      "[2021-02-26 12:39:21] INFO: Aligning marker genes with multiple hits in a single bin:\n",
      "    Finished processing 4 of 4 (100.00%) bins.\n",
      "[2021-02-26 12:39:23] INFO: { Current stage: 0:00:02.300 || Total: 0:05:21.352 }\n",
      "[2021-02-26 12:39:23] INFO: Calculating genome statistics for 4 bins with 32 threads:\n",
      "    Finished processing 4 of 4 (100.00%) bins.\n",
      "[2021-02-26 12:39:23] INFO: { Current stage: 0:00:00.197 || Total: 0:05:21.550 }\n",
      "[2021-02-26 12:39:23] INFO: [CheckM - qa] Tabulating genome statistics.\n",
      "[2021-02-26 12:39:23] INFO: Calculating AAI between multi-copy marker genes.\n",
      "[2021-02-26 12:39:23] INFO: Reading HMM info from file.\n",
      "[2021-02-26 12:39:23] INFO: Parsing HMM hits to marker genes:\n",
      "    Finished parsing hits for 4 of 4 (100.00%) bins.\n",
      "------------------------------------------------------------------------------------------------------------------------------------------------------------------------------\n",
      "  Bin Id                 Marker lineage           # genomes   # markers   # marker sets    0     1     2    3   4   5+   Completeness   Contamination   Strain heterogeneity  \n",
      "------------------------------------------------------------------------------------------------------------------------------------------------------------------------------\n",
      "  S0CS0C790     f__Enterobacteriaceae (UID5124)      134         1173          336         1    1158   14   0   0   0       99.95            1.12               0.00          \n",
      "  S0CS0C19719         k__Bacteria (UID209)           5443        102            57         3     96    3    0   0   0       94.74            5.26              33.33          \n",
      "  S0CS0C47992     f__Streptococcaceae (UID545)       240         524           282        256   249    19   0   0   0       57.78            3.99               0.00          \n",
      "  S0CS0C10113        k__Bacteria (UID2142)           169         313           233        191   118    4    0   0   0       36.50            1.72               0.00          \n",
      "------------------------------------------------------------------------------------------------------------------------------------------------------------------------------\n",
      "[2021-02-26 12:39:24] INFO: { Current stage: 0:00:00.901 || Total: 0:05:22.451 }\n"
     ]
    }
   ],
   "source": [
    "bins_inpath = os.path.join(BASE_DIR, 'example_input_data/new_simulations/camisim_outputs/vamb_outputs/bins')\n",
    "\n",
    "#!~/miniconda3/envs/vamb_env/bin/checkm taxonomy_wf -t 32 -x fna genus <taxon> $bins_inpath $CHECKM_OUTDIR\n",
    "!~/miniconda3/envs/vamb_env/bin/checkm lineage_wf -t 32 -x fna $bins_inpath $CHECKM_OUTDIR"
   ]
  },
  {
   "cell_type": "markdown",
   "metadata": {},
   "source": [
    "# Profiling Encodings\n",
    "\n",
    "We have a way of scoring the final output of this process which is to calculate how the bins actually map to genomes but we perform this clustering in the encoding space so it would be nice to also look at the encoding space itself."
   ]
  },
  {
   "cell_type": "code",
   "execution_count": 40,
   "metadata": {},
   "outputs": [
    {
     "data": {
      "text/plain": [
       "<AxesSubplot:xlabel='0', ylabel='1'>"
      ]
     },
     "execution_count": 40,
     "metadata": {},
     "output_type": "execute_result"
    },
    {
     "data": {
      "image/png": "[encoded data removed]",
      "text/plain": [
       "<Figure size 1152x720 with 1 Axes>"
      ]
     },
     "metadata": {
      "needs_background": "light"
     },
     "output_type": "display_data"
    }
   ],
   "source": [
    "latent_output_path = os.path.join(BASE_DIR, 'example_input_data/new_simulations/camisim_outputs/vamb_outputs/latent_space.npy')\n",
    "\n",
    "with open(latent_output_path, 'rb') as infile:\n",
    "    latent_space = np.load(infile)\n",
    "\n",
    "tsne_results = pd.DataFrame(TSNE(n_components=2).fit_transform(latent_space))\n",
    "\n",
    "\n",
    "plt.figure(figsize=(16,10))\n",
    "sns.scatterplot(\n",
    "    x=0, \n",
    "    y=1,\n",
    "    palette=sns.color_palette(\"hls\", 10),\n",
    "    data=tsne_results,\n",
    "    legend=\"full\",\n",
    "    alpha=0.3\n",
    ")"
   ]
  },
  {
   "cell_type": "code",
   "execution_count": 34,
   "metadata": {},
   "outputs": [
    {
     "data": {
      "text/html": [
       "<div>\n",
       "<style scoped>\n",
       "    .dataframe tbody tr th:only-of-type {\n",
       "        vertical-align: middle;\n",
       "    }\n",
       "\n",
       "    .dataframe tbody tr th {\n",
       "        vertical-align: top;\n",
       "    }\n",
       "\n",
       "    .dataframe thead th {\n",
       "        text-align: right;\n",
       "    }\n",
       "</style>\n",
       "<table border=\"1\" class=\"dataframe\">\n",
       "  <thead>\n",
       "    <tr style=\"text-align: right;\">\n",
       "      <th></th>\n",
       "      <th>0</th>\n",
       "      <th>1</th>\n",
       "    </tr>\n",
       "  </thead>\n",
       "  <tbody>\n",
       "    <tr>\n",
       "      <th>0</th>\n",
       "      <td>50.415588</td>\n",
       "      <td>0.318307</td>\n",
       "    </tr>\n",
       "    <tr>\n",
       "      <th>1</th>\n",
       "      <td>-17.264380</td>\n",
       "      <td>36.547760</td>\n",
       "    </tr>\n",
       "    <tr>\n",
       "      <th>2</th>\n",
       "      <td>20.306244</td>\n",
       "      <td>11.039788</td>\n",
       "    </tr>\n",
       "    <tr>\n",
       "      <th>3</th>\n",
       "      <td>-20.877483</td>\n",
       "      <td>-23.973154</td>\n",
       "    </tr>\n",
       "    <tr>\n",
       "      <th>4</th>\n",
       "      <td>21.074842</td>\n",
       "      <td>5.525383</td>\n",
       "    </tr>\n",
       "    <tr>\n",
       "      <th>...</th>\n",
       "      <td>...</td>\n",
       "      <td>...</td>\n",
       "    </tr>\n",
       "    <tr>\n",
       "      <th>1337</th>\n",
       "      <td>1.050063</td>\n",
       "      <td>45.026466</td>\n",
       "    </tr>\n",
       "    <tr>\n",
       "      <th>1338</th>\n",
       "      <td>-4.926797</td>\n",
       "      <td>23.323656</td>\n",
       "    </tr>\n",
       "    <tr>\n",
       "      <th>1339</th>\n",
       "      <td>-8.001385</td>\n",
       "      <td>27.564140</td>\n",
       "    </tr>\n",
       "    <tr>\n",
       "      <th>1340</th>\n",
       "      <td>23.931227</td>\n",
       "      <td>-2.646878</td>\n",
       "    </tr>\n",
       "    <tr>\n",
       "      <th>1341</th>\n",
       "      <td>-26.268490</td>\n",
       "      <td>-11.899974</td>\n",
       "    </tr>\n",
       "  </tbody>\n",
       "</table>\n",
       "<p>1342 rows × 2 columns</p>\n",
       "</div>"
      ],
      "text/plain": [
       "              0          1\n",
       "0     50.415588   0.318307\n",
       "1    -17.264380  36.547760\n",
       "2     20.306244  11.039788\n",
       "3    -20.877483 -23.973154\n",
       "4     21.074842   5.525383\n",
       "...         ...        ...\n",
       "1337   1.050063  45.026466\n",
       "1338  -4.926797  23.323656\n",
       "1339  -8.001385  27.564140\n",
       "1340  23.931227  -2.646878\n",
       "1341 -26.268490 -11.899974\n",
       "\n",
       "[1342 rows x 2 columns]"
      ]
     },
     "execution_count": 34,
     "metadata": {},
     "output_type": "execute_result"
    }
   ],
   "source": [
    "pd.DataFrame(tsne_results)"
   ]
  },
  {
   "cell_type": "code",
   "execution_count": null,
   "metadata": {},
   "outputs": [],
   "source": []
  },
  {
   "cell_type": "code",
   "execution_count": 26,
   "metadata": {},
   "outputs": [
    {
     "data": {
      "text/html": [
       "<div>\n",
       "<style scoped>\n",
       "    .dataframe tbody tr th:only-of-type {\n",
       "        vertical-align: middle;\n",
       "    }\n",
       "\n",
       "    .dataframe tbody tr th {\n",
       "        vertical-align: top;\n",
       "    }\n",
       "\n",
       "    .dataframe thead th {\n",
       "        text-align: right;\n",
       "    }\n",
       "</style>\n",
       "<table border=\"1\" class=\"dataframe\">\n",
       "  <thead>\n",
       "    <tr style=\"text-align: right;\">\n",
       "      <th></th>\n",
       "      <th>cluster_1</th>\n",
       "      <th>S0C49355</th>\n",
       "    </tr>\n",
       "  </thead>\n",
       "  <tbody>\n",
       "    <tr>\n",
       "      <th>0</th>\n",
       "      <td>cluster_1</td>\n",
       "      <td>S0C29459</td>\n",
       "    </tr>\n",
       "    <tr>\n",
       "      <th>1</th>\n",
       "      <td>cluster_1</td>\n",
       "      <td>S0C42727</td>\n",
       "    </tr>\n",
       "    <tr>\n",
       "      <th>2</th>\n",
       "      <td>cluster_1</td>\n",
       "      <td>S0C16826</td>\n",
       "    </tr>\n",
       "    <tr>\n",
       "      <th>3</th>\n",
       "      <td>cluster_1</td>\n",
       "      <td>S0C177</td>\n",
       "    </tr>\n",
       "    <tr>\n",
       "      <th>4</th>\n",
       "      <td>cluster_1</td>\n",
       "      <td>S0C45678</td>\n",
       "    </tr>\n",
       "    <tr>\n",
       "      <th>...</th>\n",
       "      <td>...</td>\n",
       "      <td>...</td>\n",
       "    </tr>\n",
       "    <tr>\n",
       "      <th>1298</th>\n",
       "      <td>cluster_4</td>\n",
       "      <td>S0C14627</td>\n",
       "    </tr>\n",
       "    <tr>\n",
       "      <th>1299</th>\n",
       "      <td>cluster_4</td>\n",
       "      <td>S0C48135</td>\n",
       "    </tr>\n",
       "    <tr>\n",
       "      <th>1300</th>\n",
       "      <td>cluster_4</td>\n",
       "      <td>S0C19660</td>\n",
       "    </tr>\n",
       "    <tr>\n",
       "      <th>1301</th>\n",
       "      <td>cluster_4</td>\n",
       "      <td>S0C31833</td>\n",
       "    </tr>\n",
       "    <tr>\n",
       "      <th>1302</th>\n",
       "      <td>cluster_4</td>\n",
       "      <td>S0C45945</td>\n",
       "    </tr>\n",
       "  </tbody>\n",
       "</table>\n",
       "<p>1303 rows × 2 columns</p>\n",
       "</div>"
      ],
      "text/plain": [
       "      cluster_1  S0C49355\n",
       "0     cluster_1  S0C29459\n",
       "1     cluster_1  S0C42727\n",
       "2     cluster_1  S0C16826\n",
       "3     cluster_1    S0C177\n",
       "4     cluster_1  S0C45678\n",
       "...         ...       ...\n",
       "1298  cluster_4  S0C14627\n",
       "1299  cluster_4  S0C48135\n",
       "1300  cluster_4  S0C19660\n",
       "1301  cluster_4  S0C31833\n",
       "1302  cluster_4  S0C45945\n",
       "\n",
       "[1303 rows x 2 columns]"
      ]
     },
     "execution_count": 26,
     "metadata": {},
     "output_type": "execute_result"
    }
   ],
   "source": [
    "clusters_tsv_path = os.path.join(BASE_DIR, 'example_input_data/new_simulations/camisim_outputs/vamb_outputs/clusters.tsv')\n",
    "\n",
    "pd.read_csv(clusters_tsv_path, sep='\\t')"
   ]
  },
  {
   "cell_type": "code",
   "execution_count": null,
   "metadata": {},
   "outputs": [],
   "source": []
  },
  {
   "cell_type": "code",
   "execution_count": null,
   "metadata": {},
   "outputs": [],
   "source": []
  },
  {
   "cell_type": "markdown",
   "metadata": {},
   "source": [
    "# Under Construction\n",
    "\n",
    "# Custom\n",
    "\n",
    "### Recall\n",
    "In order to effectively benchmark these binning exercises, we need to understand precision and recall. Recall in this case would be the number of basepairs in a given genome covered by the bin for that genome:\n",
    "\n",
    "$$\\Large Recall = \\frac{bases_{genome} \\bigcap (  \\bigcup_{i=1}^{n} bases_{contig^i} )} {bases_{genome} \\bigcap  (\\bigcup_{i=1}^{all contigs} bases_{contig^i} )} $$\n",
    "\n",
    "Where $n$ is the number of contigs in a given bin of contigs\n",
    "\n",
    "\n",
    "### Precision\n",
    "\n",
    "While the precision for a given bin would be the number of bases of a genome represented in a bin as a proportion of the number of bases in any genome that are captured in that bin:\n",
    "\n",
    "\n",
    "$$\\Large Precision = \\frac{ \\bigcup_{j=1}^{K}( bases_{genome}) \\bigcap (  \\bigcup_{i=1}^{n} bases_{contig^i} )} {bases_{genome} \\bigcap  (\\bigcup_{i=1}^{n} bases_{contig^i} )} $$\n",
    "\n",
    "Where $n$ is the number of contigs in a given bin of contigs and $K$ is the number of genomes"
   ]
  },
  {
   "cell_type": "code",
   "execution_count": 3,
   "metadata": {},
   "outputs": [
    {
     "name": "stdout",
     "output_type": "stream",
     "text": [
      "S23C236194\tOTU_97.38699.0\tCP013953.1\t405835\t408637\n",
      "S23C27593\tOTU_97.44406.0\tCP015430.1\t1591817\t1594726\n",
      "S23C53437\tOTU_97.35057.0\tCP012974.1\t260542\t266700\n",
      "S23C191539\tOTU_97.16597.0\tCP010116.1\t1675948\t1678686\n",
      "S23C111210\tOTU_97.20680.0\tCP013619.1\t408162\t411064\n",
      "S23C216129\tOTU_97.409.0\tCP013957.1\t103779\t106015\n",
      "S23C2782\tOTU_97.45246.0\tCP007573.1\t1941619\t1956892\n",
      "S23C9729\tOTU_97.44851.0\tCP015426.1\t1099587\t1121671\n",
      "S23C36165\tOTU_97.409.0\tCP013957.1\t427732\t429801\n",
      "S23C90379\tOTU_97.2104.0\tCP019196.1\t300725\t303071\n"
     ]
    }
   ],
   "source": [
    "# First load in the Reference\n",
    "reference_path = os.path.join(BASE_DIR, 'benchmarking_data/airways/reference.tsv')\n",
    "\n",
    "!head $reference_path # show first 10 lines of reference file\n",
    "\n",
    "with open(reference_path) as reference_file:\n",
    "    reference = vamb.benchmark.Reference.from_file(reference_file)"
   ]
  },
  {
   "cell_type": "code",
   "execution_count": 4,
   "metadata": {},
   "outputs": [
    {
     "name": "stdout",
     "output_type": "stream",
     "text": [
      "OTU_97.39766.0\tCorynebacterium pseudotuberculosis\tCorynebacterium\n",
      "OTU_97.7195.0\tAcinetobacter baumannii\tAcinetobacter\n",
      "OTU_97.34725.0\tStaphylococcus aureus\tStaphylococcus\n",
      "OTU_97.1051.0\tCorynebacterium ulcerans\tCorynebacterium\n",
      "OTU_97.34663.0\tStaphylococcus aureus\tStaphylococcus\n",
      "OTU_97.8581.0\tCorynebacterium doosanense\tCorynebacterium\n",
      "OTU_97.8702.0\tFlavobacterium psychrophilum\tFlavobacterium\n",
      "OTU_97.31374.1\tCorynebacterium ulcerans\tCorynebacterium\n",
      "OTU_97.479.0\tFlavobacterium gilvum\tFlavobacterium\n",
      "OTU_97.37290.0\tStaphylococcus equorum\tStaphylococcus\n"
     ]
    }
   ],
   "source": [
    "taxonomy_path = os.path.join(BASE_DIR, 'benchmarking_data/airways/taxonomy.tsv')\n",
    "\n",
    "!head $taxonomy_path # show first 10 lines of reference file\n",
    "\n",
    "with open(taxonomy_path) as taxonomy_file:\n",
    "    reference.load_tax_file(taxonomy_file)"
   ]
  },
  {
   "cell_type": "code",
   "execution_count": 5,
   "metadata": {},
   "outputs": [
    {
     "ename": "KeyError",
     "evalue": "'Contigname S0C3223 not in reference'",
     "output_type": "error",
     "traceback": [
      "\u001b[0;31m---------------------------------------------------------------------------\u001b[0m",
      "\u001b[0;31mKeyError\u001b[0m                                  Traceback (most recent call last)",
      "\u001b[0;32m<ipython-input-5-6ab2165d0260>\u001b[0m in \u001b[0;36m<module>\u001b[0;34m\u001b[0m\n\u001b[1;32m      1\u001b[0m \u001b[0;32mwith\u001b[0m \u001b[0mopen\u001b[0m\u001b[0;34m(\u001b[0m \u001b[0mos\u001b[0m\u001b[0;34m.\u001b[0m\u001b[0mpath\u001b[0m\u001b[0;34m.\u001b[0m\u001b[0mjoin\u001b[0m\u001b[0;34m(\u001b[0m\u001b[0mBASE_DIR\u001b[0m\u001b[0;34m,\u001b[0m \u001b[0;34m'example_input_data/new_simulations/camisim_outputs/vamb_outputs/clusters.tsv'\u001b[0m\u001b[0;34m)\u001b[0m \u001b[0;34m)\u001b[0m \u001b[0;32mas\u001b[0m \u001b[0mclusters_file\u001b[0m\u001b[0;34m:\u001b[0m\u001b[0;34m\u001b[0m\u001b[0;34m\u001b[0m\u001b[0m\n\u001b[1;32m      2\u001b[0m     \u001b[0mvamb_clusters\u001b[0m \u001b[0;34m=\u001b[0m \u001b[0mvamb\u001b[0m\u001b[0;34m.\u001b[0m\u001b[0mvambtools\u001b[0m\u001b[0;34m.\u001b[0m\u001b[0mread_clusters\u001b[0m\u001b[0;34m(\u001b[0m\u001b[0mclusters_file\u001b[0m\u001b[0;34m)\u001b[0m\u001b[0;34m\u001b[0m\u001b[0;34m\u001b[0m\u001b[0m\n\u001b[0;32m----> 3\u001b[0;31m     \u001b[0mvamb_bins\u001b[0m \u001b[0;34m=\u001b[0m \u001b[0mvamb\u001b[0m\u001b[0;34m.\u001b[0m\u001b[0mbenchmark\u001b[0m\u001b[0;34m.\u001b[0m\u001b[0mBinning\u001b[0m\u001b[0;34m(\u001b[0m\u001b[0mvamb_clusters\u001b[0m\u001b[0;34m,\u001b[0m \u001b[0mreference\u001b[0m\u001b[0;34m,\u001b[0m \u001b[0mminsize\u001b[0m\u001b[0;34m=\u001b[0m\u001b[0;36m200000\u001b[0m\u001b[0;34m)\u001b[0m\u001b[0;34m\u001b[0m\u001b[0;34m\u001b[0m\u001b[0m\n\u001b[0m",
      "\u001b[0;32m~/miniconda3/envs/vamb_env/lib/python3.8/site-packages/vamb/benchmark.py\u001b[0m in \u001b[0;36m__init__\u001b[0;34m(self, contigsof, reference, recalls, precisions, checkpresence, disjoint, binsplit_separator, minsize, mincontigs)\u001b[0m\n\u001b[1;32m    484\u001b[0m         \u001b[0mself\u001b[0m\u001b[0;34m.\u001b[0m\u001b[0mbinof\u001b[0m \u001b[0;34m=\u001b[0m \u001b[0mdict\u001b[0m\u001b[0;34m(\u001b[0m\u001b[0;34m)\u001b[0m \u001b[0;31m# contig: bin_name or {bin_names} dict\u001b[0m\u001b[0;34m\u001b[0m\u001b[0;34m\u001b[0m\u001b[0m\n\u001b[1;32m    485\u001b[0m         \u001b[0mself\u001b[0m\u001b[0;34m.\u001b[0m\u001b[0mbreadthof\u001b[0m \u001b[0;34m=\u001b[0m \u001b[0mdict\u001b[0m\u001b[0;34m(\u001b[0m\u001b[0;34m)\u001b[0m \u001b[0;31m# bin_name: int dict\u001b[0m\u001b[0;34m\u001b[0m\u001b[0;34m\u001b[0m\u001b[0m\n\u001b[0;32m--> 486\u001b[0;31m         \u001b[0mself\u001b[0m\u001b[0;34m.\u001b[0m\u001b[0m_parse_bins\u001b[0m\u001b[0;34m(\u001b[0m\u001b[0mcontigsof\u001b[0m\u001b[0;34m,\u001b[0m \u001b[0mcheckpresence\u001b[0m\u001b[0;34m,\u001b[0m \u001b[0mdisjoint\u001b[0m\u001b[0;34m,\u001b[0m \u001b[0mbinsplit_separator\u001b[0m\u001b[0;34m,\u001b[0m \u001b[0mminsize\u001b[0m\u001b[0;34m,\u001b[0m \u001b[0mmincontigs\u001b[0m\u001b[0;34m)\u001b[0m\u001b[0;34m\u001b[0m\u001b[0;34m\u001b[0m\u001b[0m\n\u001b[0m\u001b[1;32m    487\u001b[0m         \u001b[0mself\u001b[0m\u001b[0;34m.\u001b[0m\u001b[0mbreadth\u001b[0m \u001b[0;34m=\u001b[0m \u001b[0msum\u001b[0m\u001b[0;34m(\u001b[0m\u001b[0mself\u001b[0m\u001b[0;34m.\u001b[0m\u001b[0mbreadthof\u001b[0m\u001b[0;34m.\u001b[0m\u001b[0mvalues\u001b[0m\u001b[0;34m(\u001b[0m\u001b[0;34m)\u001b[0m\u001b[0;34m)\u001b[0m\u001b[0;34m\u001b[0m\u001b[0;34m\u001b[0m\u001b[0m\n\u001b[1;32m    488\u001b[0m \u001b[0;34m\u001b[0m\u001b[0m\n",
      "\u001b[0;32m~/miniconda3/envs/vamb_env/lib/python3.8/site-packages/vamb/benchmark.py\u001b[0m in \u001b[0;36m_parse_bins\u001b[0;34m(self, contigsof, checkpresence, disjoint, binsplit_separator, minsize, mincontigs)\u001b[0m\n\u001b[1;32m    508\u001b[0m             \u001b[0mminsize\u001b[0m \u001b[0;34m=\u001b[0m \u001b[0;36m1\u001b[0m \u001b[0;32mif\u001b[0m \u001b[0mminsize\u001b[0m \u001b[0;32mis\u001b[0m \u001b[0;32mNone\u001b[0m \u001b[0;32melse\u001b[0m \u001b[0mminsize\u001b[0m\u001b[0;34m\u001b[0m\u001b[0;34m\u001b[0m\u001b[0m\n\u001b[1;32m    509\u001b[0m             \u001b[0mmincontigs\u001b[0m \u001b[0;34m=\u001b[0m \u001b[0;36m1\u001b[0m \u001b[0;32mif\u001b[0m \u001b[0mmincontigs\u001b[0m \u001b[0;32mis\u001b[0m \u001b[0;32mNone\u001b[0m \u001b[0;32melse\u001b[0m \u001b[0mmincontigs\u001b[0m\u001b[0;34m\u001b[0m\u001b[0;34m\u001b[0m\u001b[0m\n\u001b[0;32m--> 510\u001b[0;31m             \u001b[0mcontigsof\u001b[0m \u001b[0;34m=\u001b[0m \u001b[0mfilter_clusters\u001b[0m\u001b[0;34m(\u001b[0m\u001b[0mcontigsof\u001b[0m\u001b[0;34m,\u001b[0m \u001b[0mself\u001b[0m\u001b[0;34m.\u001b[0m\u001b[0mreference\u001b[0m\u001b[0;34m,\u001b[0m \u001b[0mminsize\u001b[0m\u001b[0;34m,\u001b[0m \u001b[0mmincontigs\u001b[0m\u001b[0;34m,\u001b[0m \u001b[0mcheckpresence\u001b[0m\u001b[0;34m=\u001b[0m\u001b[0mcheckpresence\u001b[0m\u001b[0;34m)\u001b[0m\u001b[0;34m\u001b[0m\u001b[0;34m\u001b[0m\u001b[0m\n\u001b[0m\u001b[1;32m    511\u001b[0m \u001b[0;34m\u001b[0m\u001b[0m\n\u001b[1;32m    512\u001b[0m         \u001b[0;32mfor\u001b[0m \u001b[0mbin_name\u001b[0m\u001b[0;34m,\u001b[0m \u001b[0mcontig_names\u001b[0m \u001b[0;32min\u001b[0m \u001b[0mcontigsof\u001b[0m\u001b[0;34m.\u001b[0m\u001b[0mitems\u001b[0m\u001b[0;34m(\u001b[0m\u001b[0;34m)\u001b[0m\u001b[0;34m:\u001b[0m\u001b[0;34m\u001b[0m\u001b[0;34m\u001b[0m\u001b[0m\n",
      "\u001b[0;32m~/miniconda3/envs/vamb_env/lib/python3.8/site-packages/vamb/benchmark.py\u001b[0m in \u001b[0;36mfilter_clusters\u001b[0;34m(clusters, reference, minsize, mincontigs, checkpresence)\u001b[0m\n\u001b[1;32m    611\u001b[0m                 \u001b[0msize\u001b[0m \u001b[0;34m+=\u001b[0m \u001b[0mlen\u001b[0m\u001b[0;34m(\u001b[0m\u001b[0mcontig\u001b[0m\u001b[0;34m)\u001b[0m\u001b[0;34m\u001b[0m\u001b[0;34m\u001b[0m\u001b[0m\n\u001b[1;32m    612\u001b[0m             \u001b[0;32melif\u001b[0m \u001b[0mcheckpresence\u001b[0m\u001b[0;34m:\u001b[0m\u001b[0;34m\u001b[0m\u001b[0;34m\u001b[0m\u001b[0m\n\u001b[0;32m--> 613\u001b[0;31m                 \u001b[0;32mraise\u001b[0m \u001b[0mKeyError\u001b[0m\u001b[0;34m(\u001b[0m\u001b[0;34m'Contigname {} not in reference'\u001b[0m\u001b[0;34m.\u001b[0m\u001b[0mformat\u001b[0m\u001b[0;34m(\u001b[0m\u001b[0mcontigname\u001b[0m\u001b[0;34m)\u001b[0m\u001b[0;34m)\u001b[0m\u001b[0;34m\u001b[0m\u001b[0;34m\u001b[0m\u001b[0m\n\u001b[0m\u001b[1;32m    614\u001b[0m             \u001b[0;32melse\u001b[0m\u001b[0;34m:\u001b[0m\u001b[0;34m\u001b[0m\u001b[0;34m\u001b[0m\u001b[0m\n\u001b[1;32m    615\u001b[0m                 \u001b[0;32mpass\u001b[0m\u001b[0;34m\u001b[0m\u001b[0;34m\u001b[0m\u001b[0m\n",
      "\u001b[0;31mKeyError\u001b[0m: 'Contigname S0C3223 not in reference'"
     ]
    }
   ],
   "source": [
    "with open( os.path.join(BASE_DIR, 'example_input_data/new_simulations/camisim_outputs/vamb_outputs/clusters.tsv') ) as clusters_file:\n",
    "    vamb_clusters = vamb.vambtools.read_clusters(clusters_file)\n",
    "    vamb_bins = vamb.benchmark.Binning(vamb_clusters, reference, minsize=200000)"
   ]
  },
  {
   "cell_type": "code",
   "execution_count": null,
   "metadata": {},
   "outputs": [],
   "source": []
  }
 ],
 "metadata": {
  "kernelspec": {
   "display_name": "vamb_env",
   "language": "python",
   "name": "vamb_env"
  },
  "language_info": {
   "codemirror_mode": {
    "name": "ipython",
    "version": 3
   },
   "file_extension": ".py",
   "mimetype": "text/x-python",
   "name": "python",
   "nbconvert_exporter": "python",
   "pygments_lexer": "ipython3",
   "version": "3.8.5"
  }
 },
 "nbformat": 4,
 "nbformat_minor": 4
}
