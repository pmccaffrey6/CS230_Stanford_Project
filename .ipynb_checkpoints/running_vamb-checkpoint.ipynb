{
 "cells": [
  {
   "cell_type": "code",
   "execution_count": 1,
   "metadata": {},
   "outputs": [],
   "source": [
    "import sys\n",
    "\n",
    "import os\n",
    "\n",
    "import vamb\n",
    "\n",
    "import numpy as np"
   ]
  },
  {
   "cell_type": "code",
   "execution_count": null,
   "metadata": {},
   "outputs": [],
   "source": [
    "BASE_DIR = '/home/pathinformatics/jupyter_projects/vamb/stanford_cs230_project'"
   ]
  },
  {
   "cell_type": "code",
   "execution_count": 2,
   "metadata": {},
   "outputs": [
    {
     "ename": "FileNotFoundError",
     "evalue": "[Errno 2] No such file or directory: 'example_input_data/new_simulations/camisim_outputs/vamb_inputs/contignames.npz'",
     "output_type": "error",
     "traceback": [
      "\u001b[0;31m---------------------------------------------------------------------------\u001b[0m",
      "\u001b[0;31mFileNotFoundError\u001b[0m                         Traceback (most recent call last)",
      "\u001b[0;32m<ipython-input-2-2ceb2b966ee5>\u001b[0m in \u001b[0;36m<module>\u001b[0;34m\u001b[0m\n\u001b[1;32m      1\u001b[0m \u001b[0mvamb_inputs_base\u001b[0m \u001b[0;34m=\u001b[0m \u001b[0;34m'example_input_data/new_simulations/camisim_outputs/vamb_inputs'\u001b[0m\u001b[0;34m\u001b[0m\u001b[0;34m\u001b[0m\u001b[0m\n\u001b[1;32m      2\u001b[0m \u001b[0;34m\u001b[0m\u001b[0m\n\u001b[0;32m----> 3\u001b[0;31m \u001b[0mcontignames\u001b[0m \u001b[0;34m=\u001b[0m \u001b[0mvamb\u001b[0m\u001b[0;34m.\u001b[0m\u001b[0mvambtools\u001b[0m\u001b[0;34m.\u001b[0m\u001b[0mread_npz\u001b[0m\u001b[0;34m(\u001b[0m\u001b[0mos\u001b[0m\u001b[0;34m.\u001b[0m\u001b[0mpath\u001b[0m\u001b[0;34m.\u001b[0m\u001b[0mjoin\u001b[0m\u001b[0;34m(\u001b[0m\u001b[0mvamb_inputs_base\u001b[0m\u001b[0;34m,\u001b[0m \u001b[0;34m'contignames.npz'\u001b[0m\u001b[0;34m)\u001b[0m\u001b[0;34m)\u001b[0m\u001b[0;34m\u001b[0m\u001b[0;34m\u001b[0m\u001b[0m\n\u001b[0m\u001b[1;32m      4\u001b[0m \u001b[0;34m\u001b[0m\u001b[0m\n\u001b[1;32m      5\u001b[0m \u001b[0mlengths\u001b[0m \u001b[0;34m=\u001b[0m \u001b[0mvamb\u001b[0m\u001b[0;34m.\u001b[0m\u001b[0mvambtools\u001b[0m\u001b[0;34m.\u001b[0m\u001b[0mread_npz\u001b[0m\u001b[0;34m(\u001b[0m\u001b[0mos\u001b[0m\u001b[0;34m.\u001b[0m\u001b[0mpath\u001b[0m\u001b[0;34m.\u001b[0m\u001b[0mjoin\u001b[0m\u001b[0;34m(\u001b[0m\u001b[0mvamb_inputs_base\u001b[0m\u001b[0;34m,\u001b[0m \u001b[0;34m'lengths.npz'\u001b[0m\u001b[0;34m)\u001b[0m\u001b[0;34m)\u001b[0m\u001b[0;34m\u001b[0m\u001b[0;34m\u001b[0m\u001b[0m\n",
      "\u001b[0;32m~/miniconda3/envs/vamb_env/lib/python3.8/site-packages/vamb/vambtools.py\u001b[0m in \u001b[0;36mread_npz\u001b[0;34m(file)\u001b[0m\n\u001b[1;32m    496\u001b[0m     \"\"\"\n\u001b[1;32m    497\u001b[0m \u001b[0;34m\u001b[0m\u001b[0m\n\u001b[0;32m--> 498\u001b[0;31m     \u001b[0mnpz\u001b[0m \u001b[0;34m=\u001b[0m \u001b[0m_np\u001b[0m\u001b[0;34m.\u001b[0m\u001b[0mload\u001b[0m\u001b[0;34m(\u001b[0m\u001b[0mfile\u001b[0m\u001b[0;34m)\u001b[0m\u001b[0;34m\u001b[0m\u001b[0;34m\u001b[0m\u001b[0m\n\u001b[0m\u001b[1;32m    499\u001b[0m     \u001b[0marray\u001b[0m \u001b[0;34m=\u001b[0m \u001b[0mvalidate_input_array\u001b[0m\u001b[0;34m(\u001b[0m\u001b[0mnpz\u001b[0m\u001b[0;34m[\u001b[0m\u001b[0;34m'arr_0'\u001b[0m\u001b[0;34m]\u001b[0m\u001b[0;34m)\u001b[0m\u001b[0;34m\u001b[0m\u001b[0;34m\u001b[0m\u001b[0m\n\u001b[1;32m    500\u001b[0m     \u001b[0mnpz\u001b[0m\u001b[0;34m.\u001b[0m\u001b[0mclose\u001b[0m\u001b[0;34m(\u001b[0m\u001b[0;34m)\u001b[0m\u001b[0;34m\u001b[0m\u001b[0;34m\u001b[0m\u001b[0m\n",
      "\u001b[0;32m~/miniconda3/envs/vamb_env/lib/python3.8/site-packages/numpy/lib/npyio.py\u001b[0m in \u001b[0;36mload\u001b[0;34m(file, mmap_mode, allow_pickle, fix_imports, encoding)\u001b[0m\n\u001b[1;32m    414\u001b[0m             \u001b[0mown_fid\u001b[0m \u001b[0;34m=\u001b[0m \u001b[0;32mFalse\u001b[0m\u001b[0;34m\u001b[0m\u001b[0;34m\u001b[0m\u001b[0m\n\u001b[1;32m    415\u001b[0m         \u001b[0;32melse\u001b[0m\u001b[0;34m:\u001b[0m\u001b[0;34m\u001b[0m\u001b[0;34m\u001b[0m\u001b[0m\n\u001b[0;32m--> 416\u001b[0;31m             \u001b[0mfid\u001b[0m \u001b[0;34m=\u001b[0m \u001b[0mstack\u001b[0m\u001b[0;34m.\u001b[0m\u001b[0menter_context\u001b[0m\u001b[0;34m(\u001b[0m\u001b[0mopen\u001b[0m\u001b[0;34m(\u001b[0m\u001b[0mos_fspath\u001b[0m\u001b[0;34m(\u001b[0m\u001b[0mfile\u001b[0m\u001b[0;34m)\u001b[0m\u001b[0;34m,\u001b[0m \u001b[0;34m\"rb\"\u001b[0m\u001b[0;34m)\u001b[0m\u001b[0;34m)\u001b[0m\u001b[0;34m\u001b[0m\u001b[0;34m\u001b[0m\u001b[0m\n\u001b[0m\u001b[1;32m    417\u001b[0m             \u001b[0mown_fid\u001b[0m \u001b[0;34m=\u001b[0m \u001b[0;32mTrue\u001b[0m\u001b[0;34m\u001b[0m\u001b[0;34m\u001b[0m\u001b[0m\n\u001b[1;32m    418\u001b[0m \u001b[0;34m\u001b[0m\u001b[0m\n",
      "\u001b[0;31mFileNotFoundError\u001b[0m: [Errno 2] No such file or directory: 'example_input_data/new_simulations/camisim_outputs/vamb_inputs/contignames.npz'"
     ]
    }
   ],
   "source": [
    "vamb_inputs_base = 'example_input_data/new_simulations/camisim_outputs/vamb_inputs'\n",
    "\n",
    "contignames = vamb.vambtools.read_npz(os.path.join(vamb_inputs_base, 'contignames.npz'))\n",
    "\n",
    "lengths = vamb.vambtools.read_npz(os.path.join(vamb_inputs_base, 'lengths.npz'))\n",
    "\n",
    "tnfs = vamb.vambtools.read_npz(os.path.join(vamb_inputs_base, 'tnfs.npz'))\n",
    "    \n",
    "rpkms = vamb.vambtools.read_npz(os.path.join(vamb_inputs_base, 'rpkms.npz'))"
   ]
  },
  {
   "cell_type": "code",
   "execution_count": 11,
   "metadata": {},
   "outputs": [
    {
     "name": "stdout",
     "output_type": "stream",
     "text": [
      "\tNetwork properties:\n",
      "\tCUDA: False\n",
      "\tAlpha: 0.5\n",
      "\tBeta: 200\n",
      "\tDropout: 0.2\n",
      "\tN hidden: 256, 256\n",
      "\tN latent: 32\n",
      "\n",
      "\tTraining properties:\n",
      "\tN epochs: 100\n",
      "\tStarting batch size: 256\n",
      "\tBatchsteps: None\n",
      "\tLearning rate: 0.001\n",
      "\tN sequences: 1342\n",
      "\tN samples: 1\n",
      "\n",
      "\tEpoch: 1\tLoss: 1.163908\tCE: 1.0341598\tSSE: 132.820998\tKLD: 13.2234\tBatchsize: 256\n",
      "\tEpoch: 2\tLoss: 0.907602\tCE: 0.7336207\tSSE: 110.827435\tKLD: 17.8821\tBatchsize: 256\n",
      "\tEpoch: 3\tLoss: 0.702348\tCE: 0.5756330\tSSE: 84.597641\tKLD: 24.7280\tBatchsize: 256\n",
      "\tEpoch: 4\tLoss: 0.527197\tCE: 0.3765369\tSSE: 68.760202\tKLD: 32.9052\tBatchsize: 256\n",
      "\tEpoch: 5\tLoss: 0.512551\tCE: 0.3832766\tSSE: 64.824719\tKLD: 39.8714\tBatchsize: 256\n",
      "\tEpoch: 6\tLoss: 0.458212\tCE: 0.3228889\tSSE: 59.671340\tKLD: 45.4466\tBatchsize: 256\n",
      "\tEpoch: 7\tLoss: 0.413203\tCE: 0.2733659\tSSE: 55.329079\tKLD: 50.7638\tBatchsize: 256\n",
      "\tEpoch: 8\tLoss: 0.369315\tCE: 0.2200949\tSSE: 51.609453\tKLD: 55.9093\tBatchsize: 256\n",
      "\tEpoch: 9\tLoss: 0.349445\tCE: 0.2010029\tSSE: 49.322278\tKLD: 60.8942\tBatchsize: 256\n",
      "\tEpoch: 10\tLoss: 0.337675\tCE: 0.1943285\tSSE: 47.441415\tKLD: 65.3587\tBatchsize: 256\n",
      "\tEpoch: 11\tLoss: 0.320687\tCE: 0.1756421\tSSE: 45.749781\tKLD: 68.9872\tBatchsize: 256\n",
      "\tEpoch: 12\tLoss: 0.317706\tCE: 0.1816185\tSSE: 44.470173\tKLD: 70.5402\tBatchsize: 256\n",
      "\tEpoch: 13\tLoss: 0.314903\tCE: 0.1853359\tSSE: 43.395689\tKLD: 74.0888\tBatchsize: 256\n",
      "\tEpoch: 14\tLoss: 0.296498\tCE: 0.1577915\tSSE: 42.319338\tKLD: 77.8774\tBatchsize: 256\n",
      "\tEpoch: 15\tLoss: 0.288842\tCE: 0.1442114\tSSE: 42.092946\tKLD: 79.3718\tBatchsize: 256\n",
      "\tEpoch: 16\tLoss: 0.269880\tCE: 0.1218124\tSSE: 40.446861\tKLD: 80.8330\tBatchsize: 256\n",
      "\tEpoch: 17\tLoss: 0.274687\tCE: 0.1326993\tSSE: 40.297667\tKLD: 81.3930\tBatchsize: 256\n",
      "\tEpoch: 18\tLoss: 0.265953\tCE: 0.1197553\tSSE: 39.780196\tKLD: 82.9910\tBatchsize: 256\n",
      "\tEpoch: 19\tLoss: 0.263656\tCE: 0.1255952\tSSE: 38.709449\tKLD: 82.8730\tBatchsize: 256\n",
      "\tEpoch: 20\tLoss: 0.260929\tCE: 0.1143775\tSSE: 39.269408\tKLD: 83.9177\tBatchsize: 256\n",
      "\tEpoch: 21\tLoss: 0.259429\tCE: 0.1196230\tSSE: 38.369963\tKLD: 85.4785\tBatchsize: 256\n",
      "\tEpoch: 22\tLoss: 0.249441\tCE: 0.1042164\tSSE: 37.866832\tKLD: 86.4875\tBatchsize: 256\n",
      "\tEpoch: 23\tLoss: 0.244700\tCE: 0.0971376\tSSE: 37.542917\tKLD: 88.8589\tBatchsize: 256\n",
      "\tEpoch: 24\tLoss: 0.238806\tCE: 0.0911427\tSSE: 36.929401\tKLD: 89.3814\tBatchsize: 256\n",
      "\tEpoch: 25\tLoss: 0.241418\tCE: 0.0965071\tSSE: 36.879018\tKLD: 90.4965\tBatchsize: 256\n",
      "\tEpoch: 26\tLoss: 0.248252\tCE: 0.1109020\tSSE: 36.767390\tKLD: 91.6390\tBatchsize: 256\n",
      "\tEpoch: 27\tLoss: 0.236994\tCE: 0.0958491\tSSE: 35.989622\tKLD: 91.9219\tBatchsize: 256\n",
      "\tEpoch: 28\tLoss: 0.239976\tCE: 0.1033426\tSSE: 35.825502\tKLD: 92.1279\tBatchsize: 256\n",
      "\tEpoch: 29\tLoss: 0.236511\tCE: 0.0999778\tSSE: 35.439936\tKLD: 92.6940\tBatchsize: 256\n",
      "\tEpoch: 30\tLoss: 0.249735\tCE: 0.1234408\tSSE: 35.736527\tKLD: 93.0299\tBatchsize: 256\n",
      "\tEpoch: 31\tLoss: 0.234341\tCE: 0.0946032\tSSE: 35.487100\tKLD: 94.5379\tBatchsize: 256\n",
      "\tEpoch: 32\tLoss: 0.226044\tCE: 0.0834975\tSSE: 34.901913\tKLD: 95.1571\tBatchsize: 256\n",
      "\tEpoch: 33\tLoss: 0.230871\tCE: 0.0962723\tSSE: 34.598669\tKLD: 94.5931\tBatchsize: 256\n",
      "\tEpoch: 34\tLoss: 0.219480\tCE: 0.0732349\tSSE: 34.558253\tKLD: 96.6655\tBatchsize: 256\n",
      "\tEpoch: 35\tLoss: 0.229859\tCE: 0.0968018\tSSE: 34.298662\tKLD: 95.7439\tBatchsize: 256\n",
      "\tEpoch: 36\tLoss: 0.218278\tCE: 0.0734282\tSSE: 34.280661\tKLD: 96.9794\tBatchsize: 256\n",
      "\tEpoch: 37\tLoss: 0.224702\tCE: 0.0892620\tSSE: 33.934514\tKLD: 98.1811\tBatchsize: 256\n",
      "\tEpoch: 38\tLoss: 0.218402\tCE: 0.0761774\tSSE: 33.992150\tKLD: 97.9382\tBatchsize: 256\n",
      "\tEpoch: 39\tLoss: 0.214196\tCE: 0.0698901\tSSE: 33.773119\tKLD: 97.9439\tBatchsize: 256\n",
      "\tEpoch: 40\tLoss: 0.215107\tCE: 0.0752109\tSSE: 33.364268\tKLD: 99.4487\tBatchsize: 256\n",
      "\tEpoch: 41\tLoss: 0.221963\tCE: 0.0885171\tSSE: 33.418581\tKLD: 99.0593\tBatchsize: 256\n",
      "\tEpoch: 42\tLoss: 0.211877\tCE: 0.0719406\tSSE: 33.069109\tKLD: 98.4107\tBatchsize: 256\n",
      "\tEpoch: 43\tLoss: 0.209435\tCE: 0.0625858\tSSE: 33.517325\tKLD: 98.7959\tBatchsize: 256\n",
      "\tEpoch: 44\tLoss: 0.209783\tCE: 0.0664217\tSSE: 33.190953\tKLD: 98.8893\tBatchsize: 256\n",
      "\tEpoch: 45\tLoss: 0.212785\tCE: 0.0728938\tSSE: 33.109925\tKLD: 99.9058\tBatchsize: 256\n",
      "\tEpoch: 46\tLoss: 0.211592\tCE: 0.0751452\tSSE: 32.606672\tKLD: 100.6984\tBatchsize: 256\n",
      "\tEpoch: 47\tLoss: 0.205891\tCE: 0.0620186\tSSE: 32.808125\tKLD: 99.9607\tBatchsize: 256\n",
      "\tEpoch: 48\tLoss: 0.207202\tCE: 0.0669871\tSSE: 32.628199\tKLD: 98.0418\tBatchsize: 256\n",
      "\tEpoch: 49\tLoss: 0.211723\tCE: 0.0748523\tSSE: 32.697069\tKLD: 99.6716\tBatchsize: 256\n",
      "\tEpoch: 50\tLoss: 0.204081\tCE: 0.0635466\tSSE: 32.272234\tKLD: 100.1348\tBatchsize: 256\n",
      "\tEpoch: 51\tLoss: 0.204480\tCE: 0.0704016\tSSE: 31.638492\tKLD: 100.4412\tBatchsize: 256\n",
      "\tEpoch: 52\tLoss: 0.207572\tCE: 0.0707282\tSSE: 32.256207\tKLD: 99.9951\tBatchsize: 256\n",
      "\tEpoch: 53\tLoss: 0.201714\tCE: 0.0555618\tSSE: 32.643410\tKLD: 99.0096\tBatchsize: 256\n",
      "\tEpoch: 54\tLoss: 0.205125\tCE: 0.0693952\tSSE: 31.920667\tKLD: 99.0264\tBatchsize: 256\n",
      "\tEpoch: 55\tLoss: 0.200789\tCE: 0.0624515\tSSE: 31.711362\tKLD: 99.9945\tBatchsize: 256\n",
      "\tEpoch: 56\tLoss: 0.201775\tCE: 0.0602947\tSSE: 32.166023\tKLD: 99.0864\tBatchsize: 256\n",
      "\tEpoch: 57\tLoss: 0.203319\tCE: 0.0676737\tSSE: 31.749002\tKLD: 98.3098\tBatchsize: 256\n",
      "\tEpoch: 58\tLoss: 0.211534\tCE: 0.0865574\tSSE: 31.507907\tKLD: 97.9501\tBatchsize: 256\n",
      "\tEpoch: 59\tLoss: 0.197873\tCE: 0.0589002\tSSE: 31.509591\tKLD: 98.9699\tBatchsize: 256\n",
      "\tEpoch: 60\tLoss: 0.207519\tCE: 0.0781354\tSSE: 31.497917\tKLD: 99.5120\tBatchsize: 256\n",
      "\tEpoch: 61\tLoss: 0.195148\tCE: 0.0573659\tSSE: 31.093237\tKLD: 99.3748\tBatchsize: 256\n",
      "\tEpoch: 62\tLoss: 0.201280\tCE: 0.0678050\tSSE: 31.306403\tKLD: 98.5892\tBatchsize: 256\n",
      "\tEpoch: 63\tLoss: 0.199285\tCE: 0.0672243\tSSE: 30.966356\tKLD: 98.2435\tBatchsize: 256\n",
      "\tEpoch: 64\tLoss: 0.199367\tCE: 0.0670329\tSSE: 31.005972\tKLD: 98.1511\tBatchsize: 256\n",
      "\tEpoch: 65\tLoss: 0.196220\tCE: 0.0625452\tSSE: 30.810775\tKLD: 98.4357\tBatchsize: 256\n",
      "\tEpoch: 66\tLoss: 0.198421\tCE: 0.0674883\tSSE: 30.758236\tKLD: 98.3380\tBatchsize: 256\n",
      "\tEpoch: 67\tLoss: 0.195209\tCE: 0.0599507\tSSE: 30.878440\tKLD: 98.1673\tBatchsize: 256\n",
      "\tEpoch: 68\tLoss: 0.193245\tCE: 0.0591223\tSSE: 30.569737\tKLD: 97.8397\tBatchsize: 256\n",
      "\tEpoch: 69\tLoss: 0.197376\tCE: 0.0670450\tSSE: 30.636758\tKLD: 96.8422\tBatchsize: 256\n",
      "\tEpoch: 70\tLoss: 0.197145\tCE: 0.0656591\tSSE: 30.746230\tKLD: 96.3983\tBatchsize: 256\n",
      "\tEpoch: 71\tLoss: 0.192749\tCE: 0.0601421\tSSE: 30.386390\tKLD: 97.0946\tBatchsize: 256\n",
      "\tEpoch: 72\tLoss: 0.191365\tCE: 0.0563294\tSSE: 30.494547\tKLD: 97.0785\tBatchsize: 256\n",
      "\tEpoch: 73\tLoss: 0.190855\tCE: 0.0592494\tSSE: 30.069668\tKLD: 97.6680\tBatchsize: 256\n",
      "\tEpoch: 74\tLoss: 0.193412\tCE: 0.0645889\tSSE: 30.045430\tKLD: 97.7004\tBatchsize: 256\n",
      "\tEpoch: 75\tLoss: 0.193620\tCE: 0.0627455\tSSE: 30.266367\tKLD: 98.0648\tBatchsize: 256\n",
      "\tEpoch: 76\tLoss: 0.197109\tCE: 0.0727907\tSSE: 29.985155\tKLD: 96.9870\tBatchsize: 256\n",
      "\tEpoch: 77\tLoss: 0.194194\tCE: 0.0676374\tSSE: 29.946558\tKLD: 96.0236\tBatchsize: 256\n",
      "\tEpoch: 78\tLoss: 0.189142\tCE: 0.0604873\tSSE: 29.625871\tKLD: 96.5371\tBatchsize: 256\n",
      "\tEpoch: 79\tLoss: 0.195505\tCE: 0.0706676\tSSE: 29.908110\tKLD: 95.9130\tBatchsize: 256\n",
      "\tEpoch: 80\tLoss: 0.188956\tCE: 0.0584767\tSSE: 29.818497\tKLD: 95.7931\tBatchsize: 256\n",
      "\tEpoch: 81\tLoss: 0.191280\tCE: 0.0658561\tSSE: 29.557455\tKLD: 95.1630\tBatchsize: 256\n",
      "\tEpoch: 82\tLoss: 0.185141\tCE: 0.0522991\tSSE: 29.683115\tKLD: 95.3522\tBatchsize: 256\n",
      "\tEpoch: 83\tLoss: 0.186608\tCE: 0.0560198\tSSE: 29.602661\tKLD: 95.3313\tBatchsize: 256\n",
      "\tEpoch: 84\tLoss: 0.183598\tCE: 0.0508718\tSSE: 29.514338\tKLD: 95.2888\tBatchsize: 256\n",
      "\tEpoch: 85\tLoss: 0.186611\tCE: 0.0567829\tSSE: 29.533999\tKLD: 95.0437\tBatchsize: 256\n",
      "\tEpoch: 86\tLoss: 0.191799\tCE: 0.0708557\tSSE: 29.167549\tKLD: 94.5991\tBatchsize: 256\n",
      "\tEpoch: 87\tLoss: 0.193043\tCE: 0.0702079\tSSE: 29.496436\tKLD: 94.4161\tBatchsize: 256\n",
      "\tEpoch: 88\tLoss: 0.185789\tCE: 0.0547688\tSSE: 29.608622\tKLD: 93.9080\tBatchsize: 256\n",
      "\tEpoch: 89\tLoss: 0.184206\tCE: 0.0556322\tSSE: 29.167932\tKLD: 94.7072\tBatchsize: 256\n",
      "\tEpoch: 90\tLoss: 0.187083\tCE: 0.0617076\tSSE: 29.105225\tKLD: 95.6243\tBatchsize: 256\n",
      "\tEpoch: 91\tLoss: 0.182030\tCE: 0.0522534\tSSE: 29.065872\tKLD: 94.7631\tBatchsize: 256\n",
      "\tEpoch: 92\tLoss: 0.187899\tCE: 0.0669198\tSSE: 28.794223\tKLD: 93.8312\tBatchsize: 256\n",
      "\tEpoch: 93\tLoss: 0.186521\tCE: 0.0590198\tSSE: 29.304661\tKLD: 94.4354\tBatchsize: 256\n",
      "\tEpoch: 94\tLoss: 0.181909\tCE: 0.0556622\tSSE: 28.710669\tKLD: 94.1161\tBatchsize: 256\n",
      "\tEpoch: 95\tLoss: 0.182765\tCE: 0.0551781\tSSE: 28.977192\tKLD: 92.8658\tBatchsize: 256\n",
      "\tEpoch: 96\tLoss: 0.181388\tCE: 0.0533677\tSSE: 28.858402\tKLD: 93.5352\tBatchsize: 256\n",
      "\tEpoch: 97\tLoss: 0.182879\tCE: 0.0574210\tSSE: 28.772247\tKLD: 92.7800\tBatchsize: 256\n",
      "\tEpoch: 98\tLoss: 0.180500\tCE: 0.0559464\tSSE: 28.425454\tKLD: 93.0481\tBatchsize: 256\n",
      "\tEpoch: 99\tLoss: 0.186163\tCE: 0.0668430\tSSE: 28.524252\tKLD: 91.3529\tBatchsize: 256\n",
      "\tEpoch: 100\tLoss: 0.184834\tCE: 0.0602922\tSSE: 28.923074\tKLD: 91.4218\tBatchsize: 256\n"
     ]
    }
   ],
   "source": [
    "vae = vamb.encode.VAE(nsamples=rpkms.shape[1])\n",
    "dataloader, mask = vamb.encode.make_dataloader(rpkms, tnfs)\n",
    "\n",
    "with open('vamb_models/model.pt', 'wb') as modelfile:\n",
    "    vae.trainmodel(dataloader, nepochs=100, modelfile=modelfile, batchsteps=None, logfile=sys.stdout)"
   ]
  },
  {
   "cell_type": "code",
   "execution_count": 12,
   "metadata": {},
   "outputs": [
    {
     "name": "stdout",
     "output_type": "stream",
     "text": [
      "(1342, 32)\n"
     ]
    }
   ],
   "source": [
    "latent = vae.encode(dataloader)\n",
    "\n",
    "print(latent.shape)"
   ]
  },
  {
   "cell_type": "code",
   "execution_count": 13,
   "metadata": {},
   "outputs": [
    {
     "name": "stdout",
     "output_type": "stream",
     "text": [
      "First key: S0C18790 (of type: <class 'numpy.str_'> )\n",
      "Type of values: <class 'set'>\n",
      "First element of value: S0C31786 of type: <class 'numpy.str_'>\n"
     ]
    }
   ],
   "source": [
    "filtered_labels = [n for (n,m) in zip(contignames, mask) if m]\n",
    "cluster_iterator = vamb.cluster.cluster(latent, labels=filtered_labels)\n",
    "clusters = dict(cluster_iterator)\n",
    "\n",
    "medoid, contigs = next(iter(clusters.items()))\n",
    "print('First key:', medoid, '(of type:', type(medoid), ')')\n",
    "print('Type of values:', type(contigs))\n",
    "print('First element of value:', next(iter(contigs)), 'of type:', type(next(iter(contigs))))"
   ]
  },
  {
   "cell_type": "code",
   "execution_count": 14,
   "metadata": {},
   "outputs": [
    {
     "name": "stdout",
     "output_type": "stream",
     "text": [
      "Number of bins before splitting and filtering: 40\n",
      "Number of bins after splitting and filtering: 5\n"
     ]
    }
   ],
   "source": [
    "def filterclusters(clusters, lengthof):\n",
    "    filtered_bins = dict()\n",
    "    for medoid, contigs in clusters.items():\n",
    "        binsize = sum(lengthof[contig] for contig in contigs)\n",
    "    \n",
    "        if binsize >= 200000:\n",
    "            filtered_bins[medoid] = contigs\n",
    "    \n",
    "    return filtered_bins\n",
    "        \n",
    "lengthof = dict(zip(contignames, lengths))\n",
    "filtered_bins = filterclusters(vamb.vambtools.binsplit(clusters, 'C'), lengthof)\n",
    "print('Number of bins before splitting and filtering:', len(clusters))\n",
    "print('Number of bins after splitting and filtering:', len(filtered_bins))"
   ]
  },
  {
   "cell_type": "code",
   "execution_count": 17,
   "metadata": {},
   "outputs": [],
   "source": [
    "vamb_outputs_base = 'example_input_data/new_simulations/camisim_outputs/vamb_outputs'\n",
    "\n",
    "# This writes a .tsv file with the clusters and corresponding sequences\n",
    "with open(os.path.join(vamb_outputs_base, 'clusters.tsv'), 'w') as file:\n",
    "    vamb.vambtools.write_clusters(file, filtered_bins)\n",
    "\n",
    "# Only keep contigs in any filtered bin in memory\n",
    "keptcontigs = set.union(*filtered_bins.values())\n",
    "\n",
    "with open('example_input_data/new_simulations/camisim_outputs/2021.01.26_04.04.06_sample_0/contigs/anonymous_gsa.fasta', 'rb') as file:\n",
    "    fastadict = vamb.vambtools.loadfasta(file, keep=keptcontigs)\n",
    "    \n",
    "bindir = os.path.join(vamb_outputs_base, 'bins')\n",
    "vamb.vambtools.write_bins(bindir, filtered_bins, fastadict, maxbins=500)"
   ]
  }
 ],
 "metadata": {
  "kernelspec": {
   "display_name": "vamb_env",
   "language": "python",
   "name": "vamb_env"
  },
  "language_info": {
   "codemirror_mode": {
    "name": "ipython",
    "version": 3
   },
   "file_extension": ".py",
   "mimetype": "text/x-python",
   "name": "python",
   "nbconvert_exporter": "python",
   "pygments_lexer": "ipython3",
   "version": "3.8.5"
  }
 },
 "nbformat": 4,
 "nbformat_minor": 4
}
