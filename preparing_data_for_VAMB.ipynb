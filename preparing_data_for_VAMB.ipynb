{
 "cells": [
  {
   "cell_type": "markdown",
   "metadata": {},
   "source": [
    "# Preparing Data for VAMB\n",
    "\n",
    "First off, as metagenome binning is a complex and challening problem without clear absolute definitions of what constitutes a good or bad binner in all cases, we have to enumerate several assumptions that the authors make which we will also assume to hold true. In general, the workflow used by the authors is as follows:\n",
    "\n",
    "* Assemble metagenome bins one sample at a time using a dedicated metagenomic assembler. They recommend metaSPAdes.\n",
    "\n",
    "* Concatenate the contigs/scaffolds to a single FASTA file, making sure that the FASTA headers are all unique.\n",
    "\n",
    "* Remove contigs < 2000 bp from the FASTA file.\n",
    "\n",
    "* Map reads from each sample to the FASTA file. They make sure to set the minimum accepted mapping identity threshold to be similar to the identity threshold with which you want to bin. They do not sort the BAM files, or if they are already sorted, sort again by read name. They do not filter for poor MAPQ and they output all secondary alignments.\n",
    "\n",
    "* Run Vamb with default parameters.\n",
    "\n",
    "* After binning, split the bins according to the sample they originated from. In this way, you can bin using co-abundance across samples, while still seeing microdiversity from sample to sample."
   ]
  },
  {
   "cell_type": "code",
   "execution_count": 6,
   "metadata": {},
   "outputs": [],
   "source": [
    "import vamb\n",
    "\n",
    "import pysam\n",
    "\n",
    "import numpy as np\n",
    "\n",
    "import glob\n",
    "import os"
   ]
  },
  {
   "cell_type": "code",
   "execution_count": 7,
   "metadata": {},
   "outputs": [],
   "source": [
    "BASE_DIR = os.getcwd()"
   ]
  },
  {
   "cell_type": "markdown",
   "metadata": {},
   "source": [
    "# Step 1: Calculate Tetranucleotide Frequencies for Input Sequence Data\n",
    "\n",
    "1a Filter contigs by size using vamb.vambtools.filtercontigs to only those > 2000 bp\n",
    "\n",
    "1b Map reads to contigs to obtain BAM file\n",
    "\n",
    "1c Calculate TNF of contigs using vamb.parsecontigs"
   ]
  },
  {
   "cell_type": "markdown",
   "metadata": {},
   "source": [
    "### 1a: Filter contigs by size"
   ]
  },
  {
   "cell_type": "code",
   "execution_count": 38,
   "metadata": {},
   "outputs": [],
   "source": [
    "EXAMPLE_FASTA_FILE = '2021.01.26_15.46.45_sample_0'"
   ]
  },
  {
   "cell_type": "code",
   "execution_count": 39,
   "metadata": {},
   "outputs": [],
   "source": [
    "input_contigs_fasta = os.path.join(BASE_DIR, f\"example_input_data/new_simulations/camisim_outputs/{EXAMPLE_FASTA_FILE}/contigs/anonymous_gsa.fasta.gz\")\n",
    "output_filtered_contigs_fasta = os.path.join(BASE_DIR, f\"example_input_data/new_simulations/camisim_outputs/{EXAMPLE_FASTA_FILE}/contigs/anonymous_gsa_filtered.fasta.gz\")\n",
    "\n",
    "with vamb.vambtools.Reader(input_contigs_fasta, 'rb') as inputfile:\n",
    "    with open(output_filtered_contigs_fasta, 'w') as outputfile:\n",
    "        vamb.vambtools.filtercontigs(inputfile, outputfile, minlength=2000)"
   ]
  },
  {
   "cell_type": "code",
   "execution_count": 40,
   "metadata": {},
   "outputs": [
    {
     "name": "stdout",
     "output_type": "stream",
     "text": [
      ">S0C11\n",
      "ACACAAAACTTTTTTTAAGATATCACGTTAAGAAAAATGCTAGGCTGTCCGAGTATAGGC\n",
      "AAGCATCAAGGTTTGGTAATTTGCTCAAATGATTGTCAACAGAGTGTCTAGGACCAGGTT\n",
      "TAAAAGATTATAATTCTTAAGGTCTTATTCGTTTATAAAAAATGAATACTCTTTTAAAAT\n",
      "CTTAATTGAAATGAATAGGAGAAGTTTTCGTGAAAAAGTTAATCATTATTCCTGCTTACA\n",
      "ATGAAAGCAGTAATATTGTCAATACTATACGTACTATTGAATCAGATGCCCCGGATTTTG\n",
      "ACTATATCATTATTGATGATTGCTCAACGGATAATACGTTAGCAATATGTCAAAAACAGG\n",
      "GGTTCAATGTTATTTCTTTGCCCATTAACCTGGGAATTGGCGGTGCGGTGCAAACTGGCT\n",
      "ATCGTTATGCACAAAGATGTGGATATGACGTTGCAGTTCAAGTAGATGGAGATGGTCAGC\n",
      "ACAATCCATGCTATTTGGAAAAAATGGTTGAGGTATTAGTTCAATCTTCAGTAAATATGG\n"
     ]
    }
   ],
   "source": [
    "!head -n 10 $output_filtered_contigs_fasta"
   ]
  },
  {
   "cell_type": "markdown",
   "metadata": {},
   "source": [
    "### 1b: Map reads back onto FASTA catalogue"
   ]
  },
  {
   "cell_type": "code",
   "execution_count": 41,
   "metadata": {},
   "outputs": [
    {
     "name": "stdout",
     "output_type": "stream",
     "text": [
      "[M::mm_idx_gen::0.226*1.08] collected minimizers\n",
      "[M::mm_idx_gen::0.329*1.65] sorted minimizers\n",
      "[M::main::0.395*1.54] loaded/built the index for 1342 target sequence(s)\n",
      "[M::mm_idx_stat] kmer size: 15; skip: 10; is_hpc: 0; #seq: 1342\n",
      "[M::mm_idx_stat::0.412*1.52] distinct minimizers: 1744629 (97.45% are singletons); average occurrences: 1.042; average spacing: 5.363\n",
      "[M::main] Version: 2.17-r941\n",
      "[M::main] CMD: /home/pathinformatics/miniconda3/envs/vamb_env/bin/minimap2 -d example_input_data/new_simulations/catalogue.mmi /home/pathinformatics/jupyter_projects/vamb/stanford_cs230_project/example_input_data/new_simulations/camisim_outputs/2021.01.26_15.46.45_sample_0/contigs/anonymous_gsa_filtered.fasta.gz\n",
      "[M::main] Real time: 0.440 sec; CPU: 0.639 sec; Peak RSS: 0.109 GB\n"
     ]
    }
   ],
   "source": [
    "!~/miniconda3/envs/vamb_env/bin/minimap2 -d example_input_data/new_simulations/catalogue.mmi $output_filtered_contigs_fasta # make index"
   ]
  },
  {
   "cell_type": "code",
   "execution_count": 42,
   "metadata": {},
   "outputs": [
    {
     "name": "stdout",
     "output_type": "stream",
     "text": [
      "[WARNING]\u001b[1;31m Indexing parameters (-k, -w or -H) overridden by parameters used in the prebuilt index.\u001b[0m\n",
      "[M::main::0.103*1.02] loaded/built the index for 1342 target sequence(s)\n",
      "[M::mm_mapopt_update::0.103*1.02] mid_occ = 1000\n",
      "[M::mm_idx_stat] kmer size: 15; skip: 10; is_hpc: 0; #seq: 1342\n",
      "[M::mm_idx_stat::0.120*1.01] distinct minimizers: 1744629 (97.45% are singletons); average occurrences: 1.042; average spacing: 5.363\n",
      "[M::worker_pipeline::1.638*4.54] mapped 333334 sequences\n",
      "[M::worker_pipeline::2.446*4.75] mapped 333314 sequences\n",
      "[M::main] Version: 2.17-r941\n",
      "[M::main] CMD: /home/pathinformatics/miniconda3/envs/vamb_env/bin/minimap2 -t 8 -N 50 -ax sr example_input_data/new_simulations/catalogue.mmi example_input_data/new_simulations/camisim_outputs/2021.01.26_15.46.45_sample_0/reads/anonymous_reads.fq.gz\n",
      "[M::main] Real time: 2.456 sec; CPU: 11.632 sec; Peak RSS: 0.354 GB\n"
     ]
    }
   ],
   "source": [
    "minimap2_input = f\"example_input_data/new_simulations/camisim_outputs/{EXAMPLE_FASTA_FILE}/reads/anonymous_reads.fq.gz\"\n",
    "minimap2_output = f\"example_input_data/new_simulations/camisim_outputs/{EXAMPLE_FASTA_FILE}/re_mapped.bam\"\n",
    "\n",
    "!~/miniconda3/envs/vamb_env/bin/minimap2 \\\n",
    "    -t 8 \\\n",
    "    -N 50 \\\n",
    "    -ax sr example_input_data/new_simulations/catalogue.mmi \\\n",
    "    $minimap2_input | samtools view -F 3584 -b --threads 8 > $minimap2_output"
   ]
  },
  {
   "cell_type": "markdown",
   "metadata": {},
   "source": [
    "### 1c: Calculate TNFs"
   ]
  },
  {
   "cell_type": "code",
   "execution_count": 43,
   "metadata": {},
   "outputs": [],
   "source": [
    "# Use Reader to open plain or zipped files. File must be opened in binary mode\n",
    "with vamb.vambtools.Reader(output_filtered_contigs_fasta, 'rb') as inputfile:\n",
    "    tnfs, contignames, lengths = vamb.parsecontigs.read_contigs(inputfile)"
   ]
  },
  {
   "cell_type": "code",
   "execution_count": 44,
   "metadata": {},
   "outputs": [
    {
     "name": "stdout",
     "output_type": "stream",
     "text": [
      "Type of tnfs: <class 'numpy.ndarray'> of dtype float32\n",
      "Shape of tnfs: (1342, 103)\n",
      "\n",
      "Type of contignames: <class 'list'>\n",
      "Length of contignames: 1342\n",
      "\n",
      "First 5 elements of contignames:\n",
      "S0C11\n",
      "S0C61\n",
      "S0C133\n",
      "S0C177\n",
      "S0C201\n",
      "\n",
      "Type of lengths: <class 'numpy.ndarray'> of dtype int64\n",
      "Length of lengths: 1342\n",
      "\n",
      "First 5 elements of lengths:\n",
      "2537\n",
      "4228\n",
      "2008\n",
      "2299\n",
      "2476\n"
     ]
    }
   ],
   "source": [
    "print('Type of tnfs:', type(tnfs), 'of dtype', tnfs.dtype)\n",
    "print('Shape of tnfs:', tnfs.shape, end='\\n\\n')\n",
    "\n",
    "print('Type of contignames:', type(contignames))\n",
    "print('Length of contignames:', len(contignames), end='\\n\\n')\n",
    "\n",
    "print('First 5 elements of contignames:')\n",
    "for i in range(5):\n",
    "    print(contignames[i])\n",
    "\n",
    "print('\\nType of lengths:', type(lengths), 'of dtype', lengths.dtype)\n",
    "print('Length of lengths:', len(lengths), end='\\n\\n')\n",
    "\n",
    "print('First 5 elements of lengths:')\n",
    "for i in range(5):\n",
    "    print(lengths[i])"
   ]
  },
  {
   "cell_type": "code",
   "execution_count": 45,
   "metadata": {},
   "outputs": [],
   "source": [
    "all_sample_bamfiles = glob.glob(f\"example_input_data/new_simulations/camisim_outputs/{EXAMPLE_FASTA_FILE}/re_mapped.bam\")"
   ]
  },
  {
   "cell_type": "code",
   "execution_count": 46,
   "metadata": {},
   "outputs": [],
   "source": [
    "# for bamfile in all_sample_bamfiles:\n",
    "#     sorted_bamfile = bamfile.replace('.bam','.sorted.bam').replace('/bam','/sorted_bam')\n",
    "\n",
    "#     test_head = pysam.AlignmentFile(bamfile, 'rb')\n",
    "#     indexer = test_head.header['HD']['SO']\n",
    "\n",
    "#     if indexer != 'queryname':\n",
    "#         print('sorting bam file')\n",
    "#         if not os.path.exists(os.path.dirname(sorted_bamfile)):\n",
    "#             os.mkdir(os.path.dirname(sorted_bamfile))\n",
    "#         pysam.sort(\"-n\",  \"-o\", sorted_bamfile, bamfile)\n",
    "\n",
    "#     test_head.close()\n",
    "\n",
    "# all_sorted_sample_bamfiles = glob.glob('example_input_data/new_simulations/camisim_outputs/2021.01.26_04.04.06_sample_0/sorted_bam/*.bam')"
   ]
  },
  {
   "cell_type": "markdown",
   "metadata": {},
   "source": [
    "# Step 2: Calculate RPKM from BAM files"
   ]
  },
  {
   "cell_type": "code",
   "execution_count": 47,
   "metadata": {},
   "outputs": [
    {
     "name": "stdout",
     "output_type": "stream",
     "text": [
      "Type of rpkms: <class 'numpy.ndarray'> of dtype float32\n",
      "Shape of rpkms (1342, 1)\n"
     ]
    }
   ],
   "source": [
    "rpkms = vamb.parsebam.read_bamfiles(all_sample_bamfiles) \n",
    "print('Type of rpkms:', type(rpkms), 'of dtype', rpkms.dtype)\n",
    "print('Shape of rpkms', rpkms.shape)"
   ]
  },
  {
   "cell_type": "markdown",
   "metadata": {},
   "source": [
    "# Write out assets for use in VAMB"
   ]
  },
  {
   "cell_type": "code",
   "execution_count": 52,
   "metadata": {},
   "outputs": [],
   "source": [
    "vamb_inputs_base = os.path.join(BASE_DIR, 'example_input_data/new_simulations/camisim_outputs/vamb_inputs')\n",
    "\n",
    "if not os.path.exists(vamb_inputs_base):\n",
    "    os.mkdir(vamb_inputs_base)\n",
    "    \n",
    "\n",
    "with open(os.path.join(vamb_inputs_base, 'contignames.npz'), 'wb') as file:\n",
    "    vamb.vambtools.write_npz(file, np.array(contignames))\n",
    "\n",
    "with open(os.path.join(vamb_inputs_base, 'lengths.npz'), 'wb') as file:\n",
    "    vamb.vambtools.write_npz(file, lengths)\n",
    "\n",
    "with open(os.path.join(vamb_inputs_base, 'tnfs.npz'), 'wb') as file:\n",
    "    vamb.vambtools.write_npz(file, tnfs)\n",
    "    \n",
    "with open(os.path.join(vamb_inputs_base, 'rpkms.npz'), 'wb') as file:\n",
    "    vamb.vambtools.write_npz(file, rpkms)"
   ]
  }
 ],
 "metadata": {
  "kernelspec": {
   "display_name": "vamb_env",
   "language": "python",
   "name": "vamb_env"
  },
  "language_info": {
   "codemirror_mode": {
    "name": "ipython",
    "version": 3
   },
   "file_extension": ".py",
   "mimetype": "text/x-python",
   "name": "python",
   "nbconvert_exporter": "python",
   "pygments_lexer": "ipython3",
   "version": "3.8.5"
  }
 },
 "nbformat": 4,
 "nbformat_minor": 4
}
