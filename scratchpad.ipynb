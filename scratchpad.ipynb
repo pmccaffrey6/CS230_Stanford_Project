{
 "cells": [
  {
   "cell_type": "code",
   "execution_count": 3,
   "metadata": {},
   "outputs": [],
   "source": [
    "cami_urls = {\n",
    "    'Airways': 'https://openstack.cebitec.uni-bielefeld.de:8080/swift/v1/CAMI_Airways',\n",
    "    'Gastrointestinal tract': 'https://openstack.cebitec.uni-bielefeld.de:8080/swift/v1/CAMI_Gastrointestinal_tract',\n",
    "    'Oral cavity': 'https://openstack.cebitec.uni-bielefeld.de:8080/swift/v1/CAMI_Oral',\n",
    "    'Skin: https': '//openstack.cebitec.uni-bielefeld.de:8080/swift/v1/CAMI_Skin',\n",
    "    'Urogenital tract': 'https://openstack.cebitec.uni-bielefeld.de:8080/swift/v1/CAMI_Urogenital_tract'\n",
    "}"
   ]
  },
  {
   "cell_type": "code",
   "execution_count": 4,
   "metadata": {},
   "outputs": [],
   "source": [
    "url = cami_urls['Airways']\n",
    "\n",
    "filenames = !java -jar util/camiClient.jar -l $url | grep short_read"
   ]
  },
  {
   "cell_type": "code",
   "execution_count": 14,
   "metadata": {},
   "outputs": [
    {
     "data": {
      "text/plain": [
       "4751"
      ]
     },
     "execution_count": 14,
     "metadata": {},
     "output_type": "execute_result"
    }
   ],
   "source": [
    "len(filenames)"
   ]
  },
  {
   "cell_type": "code",
   "execution_count": 18,
   "metadata": {},
   "outputs": [
    {
     "name": "stdout",
     "output_type": "stream",
     "text": [
      "    3901\n"
     ]
    }
   ],
   "source": [
    "!find example_input_data/cami_challenge/airways/short_read/ | wc -l"
   ]
  },
  {
   "cell_type": "code",
   "execution_count": 7,
   "metadata": {},
   "outputs": [
    {
     "data": {
      "text/plain": [
       "4751"
      ]
     },
     "execution_count": 7,
     "metadata": {},
     "output_type": "execute_result"
    }
   ],
   "source": [
    "len([i for i in filenames if 'short_read' in i])"
   ]
  },
  {
   "cell_type": "code",
   "execution_count": null,
   "metadata": {},
   "outputs": [],
   "source": []
  }
 ],
 "metadata": {
  "kernelspec": {
   "display_name": "Python [conda env:bioinformatics]",
   "language": "python",
   "name": "conda-env-bioinformatics-py"
  },
  "language_info": {
   "codemirror_mode": {
    "name": "ipython",
    "version": 3
   },
   "file_extension": ".py",
   "mimetype": "text/x-python",
   "name": "python",
   "nbconvert_exporter": "python",
   "pygments_lexer": "ipython3",
   "version": "3.8.5"
  }
 },
 "nbformat": 4,
 "nbformat_minor": 4
}
